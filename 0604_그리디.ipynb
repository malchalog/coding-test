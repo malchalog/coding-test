{
 "cells": [
  {
   "cell_type": "markdown",
   "metadata": {},
   "source": [
    "## 그리디 유형 공부하기"
   ]
  },
  {
   "cell_type": "code",
   "execution_count": 4,
   "metadata": {},
   "outputs": [],
   "source": [
    "\n",
    "n = 5 \n",
    "m = 8 \n",
    "k = 3\n",
    "date = [2, 4, 5, 4, 6]\n"
   ]
  },
  {
   "cell_type": "code",
   "execution_count": 5,
   "metadata": {},
   "outputs": [
    {
     "ename": "KeyboardInterrupt",
     "evalue": "Interrupted by user",
     "output_type": "error",
     "traceback": [
      "\u001b[0;31m---------------------------------------------------------------------------\u001b[0m",
      "\u001b[0;31mKeyboardInterrupt\u001b[0m                         Traceback (most recent call last)",
      "Cell \u001b[0;32mIn[5], line 2\u001b[0m\n\u001b[1;32m      1\u001b[0m \u001b[38;5;66;03m# N, M, K를 공백으로 구분하여 입력받기\u001b[39;00m\n\u001b[0;32m----> 2\u001b[0m n, m, k \u001b[38;5;241m=\u001b[39m \u001b[38;5;28mmap\u001b[39m(\u001b[38;5;28mint\u001b[39m, \u001b[38;5;28;43minput\u001b[39;49m\u001b[43m(\u001b[49m\u001b[43m)\u001b[49m\u001b[38;5;241m.\u001b[39msplit())\n\u001b[1;32m      4\u001b[0m \u001b[38;5;66;03m# N개의 수를 공백으로 구분하여 입력받기\u001b[39;00m\n\u001b[1;32m      5\u001b[0m data \u001b[38;5;241m=\u001b[39m \u001b[38;5;28mlist\u001b[39m(\u001b[38;5;28mmap\u001b[39m(\u001b[38;5;28mint\u001b[39m, \u001b[38;5;28minput\u001b[39m()\u001b[38;5;241m.\u001b[39msplit()))\n",
      "File \u001b[0;32m~/anaconda3/envs/web_scapping/lib/python3.8/site-packages/ipykernel/kernelbase.py:1202\u001b[0m, in \u001b[0;36mKernel.raw_input\u001b[0;34m(self, prompt)\u001b[0m\n\u001b[1;32m   1200\u001b[0m     msg \u001b[38;5;241m=\u001b[39m \u001b[38;5;124m\"\u001b[39m\u001b[38;5;124mraw_input was called, but this frontend does not support input requests.\u001b[39m\u001b[38;5;124m\"\u001b[39m\n\u001b[1;32m   1201\u001b[0m     \u001b[38;5;28;01mraise\u001b[39;00m StdinNotImplementedError(msg)\n\u001b[0;32m-> 1202\u001b[0m \u001b[38;5;28;01mreturn\u001b[39;00m \u001b[38;5;28;43mself\u001b[39;49m\u001b[38;5;241;43m.\u001b[39;49m\u001b[43m_input_request\u001b[49m\u001b[43m(\u001b[49m\n\u001b[1;32m   1203\u001b[0m \u001b[43m    \u001b[49m\u001b[38;5;28;43mstr\u001b[39;49m\u001b[43m(\u001b[49m\u001b[43mprompt\u001b[49m\u001b[43m)\u001b[49m\u001b[43m,\u001b[49m\n\u001b[1;32m   1204\u001b[0m \u001b[43m    \u001b[49m\u001b[38;5;28;43mself\u001b[39;49m\u001b[38;5;241;43m.\u001b[39;49m\u001b[43m_parent_ident\u001b[49m\u001b[43m[\u001b[49m\u001b[38;5;124;43m\"\u001b[39;49m\u001b[38;5;124;43mshell\u001b[39;49m\u001b[38;5;124;43m\"\u001b[39;49m\u001b[43m]\u001b[49m\u001b[43m,\u001b[49m\n\u001b[1;32m   1205\u001b[0m \u001b[43m    \u001b[49m\u001b[38;5;28;43mself\u001b[39;49m\u001b[38;5;241;43m.\u001b[39;49m\u001b[43mget_parent\u001b[49m\u001b[43m(\u001b[49m\u001b[38;5;124;43m\"\u001b[39;49m\u001b[38;5;124;43mshell\u001b[39;49m\u001b[38;5;124;43m\"\u001b[39;49m\u001b[43m)\u001b[49m\u001b[43m,\u001b[49m\n\u001b[1;32m   1206\u001b[0m \u001b[43m    \u001b[49m\u001b[43mpassword\u001b[49m\u001b[38;5;241;43m=\u001b[39;49m\u001b[38;5;28;43;01mFalse\u001b[39;49;00m\u001b[43m,\u001b[49m\n\u001b[1;32m   1207\u001b[0m \u001b[43m\u001b[49m\u001b[43m)\u001b[49m\n",
      "File \u001b[0;32m~/anaconda3/envs/web_scapping/lib/python3.8/site-packages/ipykernel/kernelbase.py:1245\u001b[0m, in \u001b[0;36mKernel._input_request\u001b[0;34m(self, prompt, ident, parent, password)\u001b[0m\n\u001b[1;32m   1242\u001b[0m \u001b[38;5;28;01mexcept\u001b[39;00m \u001b[38;5;167;01mKeyboardInterrupt\u001b[39;00m:\n\u001b[1;32m   1243\u001b[0m     \u001b[38;5;66;03m# re-raise KeyboardInterrupt, to truncate traceback\u001b[39;00m\n\u001b[1;32m   1244\u001b[0m     msg \u001b[38;5;241m=\u001b[39m \u001b[38;5;124m\"\u001b[39m\u001b[38;5;124mInterrupted by user\u001b[39m\u001b[38;5;124m\"\u001b[39m\n\u001b[0;32m-> 1245\u001b[0m     \u001b[38;5;28;01mraise\u001b[39;00m \u001b[38;5;167;01mKeyboardInterrupt\u001b[39;00m(msg) \u001b[38;5;28;01mfrom\u001b[39;00m \u001b[38;5;28;01mNone\u001b[39;00m\n\u001b[1;32m   1246\u001b[0m \u001b[38;5;28;01mexcept\u001b[39;00m \u001b[38;5;167;01mException\u001b[39;00m:\n\u001b[1;32m   1247\u001b[0m     \u001b[38;5;28mself\u001b[39m\u001b[38;5;241m.\u001b[39mlog\u001b[38;5;241m.\u001b[39mwarning(\u001b[38;5;124m\"\u001b[39m\u001b[38;5;124mInvalid Message:\u001b[39m\u001b[38;5;124m\"\u001b[39m, exc_info\u001b[38;5;241m=\u001b[39m\u001b[38;5;28;01mTrue\u001b[39;00m)\n",
      "\u001b[0;31mKeyboardInterrupt\u001b[0m: Interrupted by user"
     ]
    }
   ],
   "source": [
    "# N, M, K를 공백으로 구분하여 입력받기\n",
    "n, m, k = map(int, input().split())\n",
    "\n",
    "# N개의 수를 공백으로 구분하여 입력받기\n",
    "data = list(map(int, input().split()))\n",
    "\n",
    "# 입력받은 수들 정렬하기\n",
    "data.sort()\n",
    "\n",
    "\n",
    "\n",
    "# 가장 큰 수\n",
    "first = data[n - 1]\n",
    "\n",
    "# 두 번째로 큰 수\n",
    "second = data[n - 2]\n",
    "\n",
    "# 결과값 저장 변수 초기화\n",
    "result = 0\n",
    "\n",
    "# 반복문 시작\n",
    "while True:\n",
    "    # 가장 큰 수를 K번 더하기\n",
    "    for i in range(k):\n",
    "        if m == 0:  # m이 0이라면 반복문 탈출\n",
    "            break\n",
    "        result += first\n",
    "        m -= 1  # 더할 때마다 1씩 빼기\n",
    "    if m == 0:  # m이 0이라면 반복문 탈출\n",
    "        break\n",
    "    result += second  # 두 번째로 큰 수를 한 번 더하기\n",
    "    m -= 1  # 더할 때마다 1씩 빼기\n",
    "\n",
    "# 최종 답안 출력\n",
    "print(result)"
   ]
  },
  {
   "cell_type": "code",
   "execution_count": 17,
   "metadata": {},
   "outputs": [],
   "source": [
    "\n",
    "n = 5 \n",
    "m = 8 \n",
    "k = 3\n",
    "N = [ 2, 4, 5, 4, 6 ]"
   ]
  },
  {
   "cell_type": "code",
   "execution_count": 24,
   "metadata": {},
   "outputs": [
    {
     "data": {
      "text/plain": [
       "46"
      ]
     },
     "execution_count": 24,
     "metadata": {},
     "output_type": "execute_result"
    }
   ],
   "source": [
    "# 주어진 값들\n",
    "n = 5 \n",
    "m = 8 \n",
    "k = 3\n",
    "data = (2, 4, 5, 4, 6)  # 만약 튜플로 주어진다면\n",
    "\n",
    "# 튜플을 리스트로 변환\n",
    "data = list(data)\n",
    "\n",
    "# 입력받은 수들 정렬하기\n",
    "data.sort()\n",
    "\n",
    "# 가장 큰 수와 두 번째로 큰 수 찾기\n",
    "first = data[n - 1]\n",
    "second = data[n - 2]\n",
    "\n",
    "\n",
    "#결과값 정리 \n",
    "result = 0 \n",
    "\n",
    "# 가장 큰 수를 몇번 더하게 되는지\n",
    "count = int(m/(k+1)) * k + m%(k+1)\n",
    "\n",
    "# 가장 큰 수 더하기\n",
    "first_result = first * count \n",
    "second_result = second * (m-count)\n",
    "\n",
    "result = first_result + second_result\n",
    "result\n"
   ]
  },
  {
   "cell_type": "code",
   "execution_count": 29,
   "metadata": {},
   "outputs": [
    {
     "data": {
      "text/plain": [
       "66"
      ]
     },
     "execution_count": 29,
     "metadata": {},
     "output_type": "execute_result"
    }
   ],
   "source": [
    "# 주어진 값들\n",
    "n = 5 \n",
    "m = 8 \n",
    "k = 3\n",
    "data = (2, 4, 5, 4, 6)  # 만약 튜플로 주어진다면\n",
    "\n",
    "# 튜플을 리스트로 변환\n",
    "data = list(data)\n",
    "\n",
    "# 입력받은 수들 정렬하기\n",
    "data.sort()\n",
    "\n",
    "# 가장 큰 수와 두 번째로 큰 수 찾기\n",
    "first = data[n - 1]\n",
    "second = data[n - 2]\n",
    "\n",
    "\n",
    "#결과값 정리 \n",
    "result = 0 \n",
    "\n",
    "# 가장 큰 수를 몇번 더하게 되는지\n",
    "count = int(m/(k+1)) + m%(k+1)\n",
    "\n",
    "# 가장 큰 수 더하기\n",
    "first_result = first * count * k\n",
    "second_result = second * (m-count)\n",
    "\n",
    "result = first_result + second_result\n",
    "result\n"
   ]
  },
  {
   "cell_type": "code",
   "execution_count": null,
   "metadata": {},
   "outputs": [],
   "source": [
    "# 주어진 값들\n",
    "n = 5 \n",
    "m = 8 \n",
    "k = 3\n",
    "data = (2, 4, 5, 4, 6)  # 만약 튜플로 주어진다면\n",
    "\n",
    "# 튜플을 리스트로 변환\n",
    "data = list(data)\n",
    "\n",
    "# 입력받은 수들 정렬하기\n",
    "data.sort()\n",
    "\n",
    "# 가장 큰 수와 두 번째로 큰 수 찾기\n",
    "first = data[n - 1]\n",
    "second = data[n - 2]\n",
    "\n",
    "\n",
    "#결과값 정리 \n",
    "result = 0 \n",
    "\n",
    "# 가장 큰 수를 몇번 더하게 되는지\n",
    "count = int(m/(k+1)) + m%(k+1)\n",
    "\n",
    "# 가장 큰 수 더하기\n",
    "first_result = first * count * k\n",
    "second_result = second * (m-count)\n",
    "\n",
    "result = first_result + second_result\n",
    "result\n"
   ]
  },
  {
   "cell_type": "code",
   "execution_count": null,
   "metadata": {},
   "outputs": [],
   "source": [
    "# 주어진 값들\n",
    "n = 3\n",
    "m = 3 \n",
    "data = [3,1,2ㅍ"
   ]
  },
  {
   "cell_type": "code",
   "execution_count": null,
   "metadata": {},
   "outputs": [],
   "source": [
    "# N, M을 공백으로 구분하여 입력받기\n",
    "\n",
    "n, m = map(int, input().split())\n",
    "result = 0\n",
    "\n",
    "# 한 줄씩 입력받아 확인\n",
    "for i in range(n):    \n",
    "data = list(map(int, input().split()))   \n",
    "\n",
    "# 현재 줄에서 '가장 작은 수' 찾기   \n",
    " min_value = 10001   \n",
    "\n",
    " for a in data:       \n",
    "     min_value = min(min_value, a)   \n",
    "\n",
    " # '가장 작은 수'들 중에서 가장 큰 수 찾기    \n",
    "\n",
    "result = max(result, min_value)\n",
    "print(result) # 최종 답안 출력\n"
   ]
  },
  {
   "cell_type": "code",
   "execution_count": null,
   "metadata": {},
   "outputs": [],
   "source": [
    "# 입력 받기\n",
    "n = int(input())\n",
    "data = list(map(int, input().split()))\n",
    "\n",
    "# 공포도를 오름차순으로 정렬\n",
    "data.sort()\n",
    "\n",
    "# 생성된 그룹 수와 현재 그룹의 인원 수 초기화\n",
    "group = 0\n",
    "group_members = 0\n",
    "\n",
    "# 각 공포도를 순회하며 그룹 생성\n",
    "for i in data : \n",
    "    group_members += 1    \n",
    "    if group_members > i : \n",
    "        group += 1    \n",
    "        group_members = 0\n",
    "\n",
    "print(group)\n",
    "# 최대 그룹 수 출력\n"
   ]
  },
  {
   "cell_type": "code",
   "execution_count": null,
   "metadata": {},
   "outputs": [],
   "source": [
    "data = input()\n",
    "\n",
    "#첫번째 숫자\n",
    "result_num = int(data[0])\n",
    "\n",
    "# 반복해서 연산하는데, 범위는 두번째 숫자부터 끝까지\n",
    "for i in range(1,len(data)-1) : \n",
    "    num = int(data[i])\n",
    "    if num <= 1 or result_num <= 1:\n",
    "        result_num += num #이미 더해서 result_num에 할당하여 저장\n",
    "    else : \n",
    "        result_num *= num\n",
    "        \n",
    "        \n",
    "    "
   ]
  }
 ],
 "metadata": {
  "kernelspec": {
   "display_name": "web_scapping",
   "language": "python",
   "name": "python3"
  },
  "language_info": {
   "codemirror_mode": {
    "name": "ipython",
    "version": 3
   },
   "file_extension": ".py",
   "mimetype": "text/x-python",
   "name": "python",
   "nbconvert_exporter": "python",
   "pygments_lexer": "ipython3",
   "version": "3.8.17"
  }
 },
 "nbformat": 4,
 "nbformat_minor": 2
}
